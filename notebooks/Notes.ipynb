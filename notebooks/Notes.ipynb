{
 "cells": [
  {
   "cell_type": "markdown",
   "id": "fbb751c9-02f2-41e9-b714-544ffb549f17",
   "metadata": {},
   "source": [
    "# Documentation helper\n",
    "\n",
    "There are three main packages or domains in this solution: \n",
    "\n",
    "* Rules\n",
    "* Dita/XML\n",
    "* LLM\n",
    "\n",
    "Linguistic rules tagging is proposed to verify the validity of the generated manual. "
   ]
  },
  {
   "cell_type": "code",
   "execution_count": 3,
   "id": "fc43402a",
   "metadata": {},
   "outputs": [
    {
     "name": "stdout",
     "output_type": "stream",
     "text": [
      "Note: you may need to restart the kernel to use updated packages.\n"
     ]
    },
    {
     "data": {
      "text/plain": [
       "True"
      ]
     },
     "execution_count": 3,
     "metadata": {},
     "output_type": "execute_result"
    }
   ],
   "source": [
    "%pip install -qU \"langchain[aws]\" python-dotenv lxml atlassian-python-api\n",
    "\n",
    "from dotenv import load_dotenv\n",
    "load_dotenv()"
   ]
  },
  {
   "cell_type": "code",
   "execution_count": 6,
   "id": "c770c227",
   "metadata": {},
   "outputs": [],
   "source": [
    "import boto3\n",
    "from botocore.config import Config\n",
    "\n",
    "# Configure the Bedrock client with a read timeout of 3600 seconds\n",
    "config = Config(read_timeout=3600, region_name=\"us-east-1\")\n",
    "\n",
    "bedrock_client = boto3.client(\"bedrock-runtime\", config=config)\n",
    "\n",
    "with open(\"json/rules.json\") as file:\n",
    "    rules = file.read()\n",
    "\n",
    "with open(\"json/bad_words.json\") as file:\n",
    "    bad_words = file.read()\n",
    "\n",
    "def base_prompt(job, rules, bad_words, instructions): return f\"\"\"Your job is to {job} based on the following\n",
    "Rules:\n",
    "{rules}\n",
    "\n",
    "Forbidden words:\n",
    "{bad_words}\n",
    "\n",
    "Instructions:\n",
    "{instructions}\n",
    "\"\"\""
   ]
  },
  {
   "cell_type": "code",
   "execution_count": null,
   "id": "2bfb9b86",
   "metadata": {},
   "outputs": [
    {
     "name": "stdout",
     "output_type": "stream",
     "text": [
      "Generating response\n"
     ]
    }
   ],
   "source": [
    "from botocore.exceptions import ClientError\n",
    "import json\n",
    "from enum import Enum\n",
    "\n",
    "\n",
    "class DocumentType(str, Enum):\n",
    "    HTML = \"html\"\n",
    "    MARKDOWN = \"md\"\n",
    "    PDF = \"pdf\"\n",
    "    DOCX = \"docx\"\n",
    "    DOC = \"doc\"\n",
    "    XLSX = \"xlsx\"\n",
    "    XLS = \"xls\"\n",
    "    CSV = \"csv\"\n",
    "    TXT = \"txt\"\n",
    "\n",
    "\n",
    "async def generate_dita(document: bytes, file_name: str, rules: str, bad_words: str, model_id: str, document_type: DocumentType = DocumentType.TXT):\n",
    "\n",
    "    instructions = \"\"\"\n",
    "    - Check the document for compliance with the provided rules.\n",
    "    - Identify any violations of the rules.\n",
    "    - Suggest corrections for the identified violations.\n",
    "    - Ensure the output is in DITA format.\n",
    "\n",
    "    Answer only in DITA format, without any additional text or explanations. If needed, do multiple files to cover all content.\n",
    "    \"\"\"\n",
    "\n",
    "    system_role = f\"You are a technical editor that generates dita files based on given rules.\\n\\n{base_prompt(job='generate DITA file', rules=rules, bad_words=bad_words, instructions=instructions)}\"\n",
    "\n",
    "    document_reference = {\n",
    "        \"format\": document_type,\n",
    "        \"name\": file_name,\n",
    "        \"source\": {\n",
    "            \"bytes\": document,\n",
    "        }\n",
    "    }\n",
    "\n",
    "    user_prompt = \"Read the document and generate the DITA file with the necessary corrections based on the provided rules and forbidden words.\"\n",
    "\n",
    "    inference_config = {\n",
    "        \"temperature\": 0.2,\n",
    "        \"system\": system_role,\n",
    "        \"max_tokens\": 5000,\n",
    "    }\n",
    "\n",
    "    return bedrock_client.converse(\n",
    "        modelId=model_id,\n",
    "        system=[{\"text\": system_role}],\n",
    "        messages=[\n",
    "            {\n",
    "                \"role\": \"user\",\n",
    "                \"content\": [\n",
    "                        {\"text\": user_prompt},\n",
    "                        {\"document\": document_reference}\n",
    "                ]   \n",
    "            }\n",
    "        ]\n",
    "    )\n",
    "\n",
    "    # except (ClientError, Exception) as e:\n",
    "    # print(f\"ERROR: Can't invoke '{model_id}'. Reason: {e}\")\n",
    "\n",
    "with open(\"txt/PMD_PRISM.IO_Digital_IO_Management.docx\", \"rb\") as file:\n",
    "    manual = file.read()\n",
    "\n",
    "print(\"Generating response\")\n",
    "resp = await generate_corrected_dita(manual, \"IO Digital IO Management\", rules, bad_words, \"arn:aws:bedrock:us-east-1:473326111529:inference-profile/us.anthropic.claude-sonnet-4-20250514-v1:0\", document_type=DocumentType.DOCX)\n",
    "\n",
    "usage = resp[\"usage\"]"
   ]
  },
  {
   "cell_type": "code",
   "execution_count": 7,
   "id": "6934233e",
   "metadata": {},
   "outputs": [
    {
     "name": "stdout",
     "output_type": "stream",
     "text": [
      "Generating response\n"
     ]
    }
   ],
   "source": [
    "async def correct_dita(document: str, file_name: str, rules: str, bad_words: str, model_id: str):\n",
    "    \"\"\"\n",
    "    Generate a corrected DITA file based on the provided document and rules.\n",
    "\n",
    "    Args:\n",
    "        document (bytes): The document content to be processed.\n",
    "        file_name (str): The name of the file being processed.\n",
    "        rules (str): The rules to check against.\n",
    "        bad_words (str): The forbidden words to avoid.\n",
    "        model_id (str): The model ID for the inference.\n",
    "        document_type (DocumentType): The type of the document.\n",
    "\n",
    "    Returns:\n",
    "        dict: The response from the Bedrock client.\n",
    "    \"\"\"\n",
    "    instructions = \"\"\"\n",
    "    - Modify the text only when necessary.\n",
    "    - Mark all corrections using the following syntax:\n",
    "        - ~~Original~~ → **Corrected** (Reason)\n",
    "    - Do not add new sections unless explicitly required.\"\"\"\n",
    "\n",
    "    system_role = f\"You are a technical editor that verifies dita files based on given rules.\\n\\n{base_prompt(job='corrects DITA file', rules=rules, bad_words=bad_words, instructions=instructions)}\"\n",
    "    user_prompt = \"Read the document and correct it based on the provided rules and forbidden words.\"\n",
    "    inference_config = {\n",
    "        \"temperature\": 0.2,\n",
    "        \"system\": system_role,\n",
    "        \"max_tokens\": 5000,\n",
    "    }\n",
    "    return bedrock_client.converse(\n",
    "        modelId=model_id,\n",
    "        system=[{\"text\": system_role}],\n",
    "        messages=[\n",
    "            {\n",
    "                \"role\": \"user\",\n",
    "                \"content\": [\n",
    "                    {\"text\": user_prompt},\n",
    "                    {\"text\": document}\n",
    "                ]\n",
    "            }\n",
    "        ]\n",
    "    )\n",
    "\n",
    "    \n",
    "with open(\"dita/parameters.dita\") as file:\n",
    "    dita = file.read()\n",
    "\n",
    "print(\"Generating response\")\n",
    "resp = await correct_dita(dita, \"parameters.dita\", rules, bad_words, \"arn:aws:bedrock:us-east-1:473326111529:inference-profile/us.anthropic.claude-sonnet-4-20250514-v1:0\")\n",
    "\n",
    "usage = resp[\"usage\"]"
   ]
  },
  {
   "cell_type": "code",
   "execution_count": 8,
   "id": "8cc6599a",
   "metadata": {},
   "outputs": [
    {
     "name": "stdout",
     "output_type": "stream",
     "text": [
      "Response generated\n"
     ]
    },
    {
     "data": {
      "text/plain": [
       "{'inputTokens': 6815,\n",
       " 'outputTokens': 998,\n",
       " 'totalTokens': 7813,\n",
       " 'cacheReadInputTokens': 0,\n",
       " 'cacheWriteInputTokens': 0}"
      ]
     },
     "execution_count": 8,
     "metadata": {},
     "output_type": "execute_result"
    }
   ],
   "source": [
    "from pathlib import Path\n",
    "\n",
    "print(\"Response generated\")\n",
    "output = resp[\"output\"]\n",
    "response_text = output[\"message\"][\"content\"][0][\"text\"]\n",
    "Path(\"txt/corrected_dita.dita\").write_text(response_text)\n",
    "\n",
    "usage"
   ]
  },
  {
   "cell_type": "markdown",
   "id": "ac5260ab",
   "metadata": {},
   "source": [
    "## BitBucket connector\n",
    "\n",
    "This connector is essential to get the dita files and publish changes through pull requests. "
   ]
  },
  {
   "cell_type": "code",
   "execution_count": 4,
   "id": "4c82503f",
   "metadata": {},
   "outputs": [],
   "source": [
    "from atlassian import Bitbucket\n",
    "import os\n",
    "\n",
    "connector = Bitbucket(\n",
    "    url=os.getenv(\"BITBUCKET_URL\"),\n",
    "    username=os.getenv(\"BITBUCKET_USERNAME\"),\n",
    "    password=os.getenv(\"BITBUCKET_PASSWORD\")\n",
    ")"
   ]
  },
  {
   "cell_type": "markdown",
   "id": "bb6eb27e-86d8-45d1-9e96-bf9832f763ad",
   "metadata": {},
   "source": [
    "## XML/DITA Parser\n",
    "\n",
    "This parser will have the responsibility to extract and validate the dita syntax, although the validation part could already be performed by the technical writer if he is using oxygen. "
   ]
  },
  {
   "cell_type": "code",
   "execution_count": null,
   "id": "55ad01f5",
   "metadata": {},
   "outputs": [],
   "source": [
    "from lxml import etree\n",
    "\n",
    "def prettyprint(element, **kwargs):\n",
    "    xml = etree.tostring(element, pretty_print=True, **kwargs)\n",
    "    print(xml.decode(), end='')\n",
    "\n"
   ]
  },
  {
   "cell_type": "code",
   "execution_count": null,
   "id": "ad2f0c60",
   "metadata": {},
   "outputs": [
    {
     "name": "stdout",
     "output_type": "stream",
     "text": [
      "title []\n",
      "<?xml version='1.0' encoding='UTF-8'?>\n",
      "<title>Specifying the IP parameters using the serial connection</title>\n",
      "    \n",
      "abstract []\n",
      "<?xml version='1.0' encoding='UTF-8'?>\n",
      "<abstract>\n",
      "        <shortdesc>The procedure  describes how to set up the IP parameters for the device using a serial connection to establish network connectivity for the device.</shortdesc>\n",
      "        <p>The procedure involves setting up the IP address and subnet mask for the device using a serial connection. This procedure is generally useful when the device has no IP address assigned or is in factory default settings.</p>\n",
      "    </abstract>\n",
      "    \n",
      "taskbody []\n",
      "<?xml version='1.0' encoding='UTF-8'?>\n",
      "<taskbody>\n",
      "        <prereq id=\"prereq_smf_b4f_sfc\">\n",
      "            <ul id=\"ul_om5_nkj_wfc\">\n",
      "                <li>A Linux computer with the following packages installed:<ul id=\"ul_gjn_qkj_wfc\">\n",
      "                        <li>Superuser access (sudo)</li>\n",
      "                        <li>Minicom</li>\n",
      "                        <li>yangcli-pro</li>\n",
      "                    </ul></li>\n",
      "                <li>The access role administrator is assigned to the user account you use to perform the actions on the device. </li>\n",
      "            </ul>\n",
      "        </prereq>\n",
      "        <context/>\n",
      "        <steps>\n",
      "            <step>\n",
      "                <cmd>Connect the device to the Linux machine using a USB-to-serial cable.</cmd>\n",
      "            </step>\n",
      "            <step>\n",
      "                <cmd>Connect Ethernet port 1 of the device to the Ethernet port on the Linux machine using an Ethernet cable.</cmd>\n",
      "            </step>\n",
      "            <step>\n",
      "                <cmd>Open a terminal application on the Linux computer.</cmd>\n",
      "            </step>\n",
      "            <step>\n",
      "                <cmd>Open a serial console session using Minicom on the Linux computer.</cmd>\n",
      "                <info><cmdname>sudo minicom -D /dev/ttyUSB0</cmdname></info>\n",
      "                <info>The device path <cmdname>/dev/ttyUSB0</cmdname>  varies depending on the order in which multiple USB-to-serial devices are connected. For example, the first connected device is usually assigned /dev/ttyUSB0, the second /dev/ttyUSB1 and so on.</info>\n",
      "            </step>\n",
      "            <step>\n",
      "                <cmd>Enter the password for the Linux super user.</cmd>\n",
      "            </step>\n",
      "            <step>\n",
      "                <cmd>Press the &lt;Enter&gt; key a number of times until the login screen appears.</cmd>\n",
      "            </step>\n",
      "            <step>\n",
      "                <cmd>Enter the user name.</cmd>\n",
      "                <info>The default user name is root.</info>\n",
      "            </step>\n",
      "            <step>\n",
      "                <cmd>Specify the IP parameters.</cmd>\n",
      "                <info><cmdname> ifconfig eth1 192.168.1.10 netmask 255.255.255.0 up </cmdname></info>\n",
      "            </step>\n",
      "        </steps>\n",
      "    </taskbody>\n",
      "\n"
     ]
    }
   ],
   "source": [
    "# Load and parse the DITA file\n",
    "tree = etree.parse(\"./dita/example.dita\")\n",
    "root = tree.getroot()\n",
    "\n",
    "for topic in root:\n",
    "    print(topic.tag)\n",
    "    prettyprint(topic, encoding='UTF-8', xml_declaration=True)\n"
   ]
  }
 ],
 "metadata": {
  "kernelspec": {
   "display_name": ".venv (3.10.12)",
   "language": "python",
   "name": "python3"
  },
  "language_info": {
   "codemirror_mode": {
    "name": "ipython",
    "version": 3
   },
   "file_extension": ".py",
   "mimetype": "text/x-python",
   "name": "python",
   "nbconvert_exporter": "python",
   "pygments_lexer": "ipython3",
   "version": "3.10.12"
  }
 },
 "nbformat": 4,
 "nbformat_minor": 5
}
